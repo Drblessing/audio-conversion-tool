{
 "cells": [
  {
   "cell_type": "code",
   "execution_count": 2,
   "metadata": {},
   "outputs": [
    {
     "name": "stdout",
     "output_type": "stream",
     "text": [
      "Button clicked!\n",
      "Button clicked!\n",
      "Button clicked!\n",
      "Button clicked!\n",
      "Button clicked!\n",
      "Close button clicked!\n"
     ]
    }
   ],
   "source": [
    "%gui tk\n",
    "import tkinter as tk\n",
    "import sys\n",
    "\n",
    "def on_button_click():\n",
    "    print(\"Button clicked!\")\n",
    "\n",
    "def on_close_click(root):\n",
    "    print(\"Close button clicked!\")\n",
    "    root.destroy()\n",
    "\n",
    "def run_gui():\n",
    "    root = tk.Tk()\n",
    "    root.title(\"Simple Tkinter Example\")\n",
    "    tk.Label(root, text=\"Hello, Tkinter!\").pack()\n",
    "    tk.Button(root, text=\"Close\", command=lambda: on_close_click(root)).pack()\n",
    "    tk.Button(root, text=\"Click me!\", command=on_button_click).pack()\n",
    "    root.mainloop()\n",
    "\n",
    "run_gui()\n"
   ]
  },
  {
   "cell_type": "code",
   "execution_count": 1,
   "metadata": {},
   "outputs": [
    {
     "data": {
      "text/plain": [
       "4"
      ]
     },
     "execution_count": 1,
     "metadata": {},
     "output_type": "execute_result"
    }
   ],
   "source": [
    "2 + 2"
   ]
  }
 ],
 "metadata": {
  "kernelspec": {
   "display_name": ".venv",
   "language": "python",
   "name": "python3"
  },
  "language_info": {
   "codemirror_mode": {
    "name": "ipython",
    "version": 3
   },
   "file_extension": ".py",
   "mimetype": "text/x-python",
   "name": "python",
   "nbconvert_exporter": "python",
   "pygments_lexer": "ipython3",
   "version": "3.12.1"
  }
 },
 "nbformat": 4,
 "nbformat_minor": 2
}
