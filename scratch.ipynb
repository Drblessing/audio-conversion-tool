{
 "cells": [
  {
   "cell_type": "code",
   "execution_count": null,
   "metadata": {},
   "outputs": [],
   "source": [
    "from pathlib import Path\n",
    "\n",
    "# album = \" \"\n",
    "\n",
    "album = Path(album)\n",
    "\n",
    "# Get all songs in the album\n",
    "songs = []\n",
    "for song in album.iterdir():\n",
    "    # If the file is a .flac, .ogg, or .mp3, add it to the list of songs\n",
    "    if song.suffix in [\".flac\", \".ogg\", \".mp3\"]:\n",
    "        songs.append(song)\n",
    "\n",
    "songs"
   ]
  }
 ],
 "metadata": {
  "kernelspec": {
   "display_name": ".venv",
   "language": "python",
   "name": "python3"
  },
  "language_info": {
   "codemirror_mode": {
    "name": "ipython",
    "version": 3
   },
   "file_extension": ".py",
   "mimetype": "text/x-python",
   "name": "python",
   "nbconvert_exporter": "python",
   "pygments_lexer": "ipython3",
   "version": "3.12.1"
  }
 },
 "nbformat": 4,
 "nbformat_minor": 2
}
