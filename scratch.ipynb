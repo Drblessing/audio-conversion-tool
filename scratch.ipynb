{
 "cells": [
  {
   "cell_type": "code",
   "execution_count": 4,
   "metadata": {},
   "outputs": [],
   "source": [
    "import eyed3\n",
    "from eyed3 import AudioFile\n",
    "from eyed3.id3 import ID3_V2_4\n",
    "\n",
    "\n",
    "audiofile = eyed3.load(\"assets/motivational-symphony-music.mp3\")  # type: AudioFile\n",
    "\n",
    "if audiofile.tag is None:\n",
    "    audiofile.initTag(version=ID3_V2_4)\n",
    "\n",
    "audiofile.tag.artist = \"Token Entry\"\n",
    "audiofile.tag.album = \"The Fire Within\"\n",
    "audiofile.tag.album_artist = \"Various Artists\"\n",
    "\n",
    "audiofile.tag.save()"
   ]
  },
  {
   "cell_type": "code",
   "execution_count": null,
   "metadata": {},
   "outputs": [
    {
     "data": {
      "text/plain": [
       "(3, None, None)"
      ]
     },
     "metadata": {},
     "output_type": "display_data"
    }
   ],
   "source": [
    "import eyed3\n",
    "from eyed3.core import AudioFile\n",
    "\n",
    "audiofile = eyed3.load(\"assets/motivational-symphony-music.mp3\")\n",
    "\n",
    "# Assert that audiofile is indeed an instance of AudioFile\n",
    "assert isinstance(audiofile, AudioFile), \"Loaded file is not an AudioFile\"\n",
    "\n",
    "if audiofile.tag is None:\n",
    "    audiofile.initTag(version=eyed3.id3.ID3_V2_4)\n",
    "else:\n",
    "    # This else block is to assert to the type checker that audiofile.tag is not None beyond this point\n",
    "    pass\n",
    "\n",
    "# Now that we've asserted, the type checker should be more confident\n",
    "audiofile.tag.artist = \"Token Entry\"\n",
    "audiofile.tag.album = \"The Fire Within\"\n",
    "audiofile.tag.album_artist = \"Various Artists\"\n",
    "\n",
    "audiofile.tag.save()"
   ]
  },
  {
   "cell_type": "code",
   "execution_count": null,
   "metadata": {},
   "outputs": [],
   "source": [
    "import eyed3\n",
    "\n",
    "audiofile = eyed3.load(\"assets/motivational-symphony-music.mp3\")\n",
    "\n",
    "# Check if audiofile is not None and is an instance of an AudioFile, then proceed\n",
    "if audiofile is not None:\n",
    "    if audiofile.tag is None:\n",
    "        audiofile.initTag(version=eyed3.id3.ID3_V2_4)\n",
    "\n",
    "    # At this point, we're sure audiofile.tag is not None because if it was,\n",
    "    # initTag() above would have initialized it. However, to satisfy static\n",
    "    # type checkers, you might still run into issues because they don't\n",
    "    # execute your code and thus don't know the tag has been initialized.\n",
    "\n",
    "    # Explicitly inform the type checker that tag is not None.\n",
    "    assert audiofile.tag is not None, \"audiofile.tag is unexpectedly None\"\n",
    "\n",
    "    # Now safely access tag properties\n",
    "    audiofile.tag.artist = \"Token Entry\"\n",
    "    audiofile.tag.album = \"The Fire Within\"\n",
    "    audiofile.tag.album_artist = \"Various Artists\"\n",
    "\n",
    "    audiofile.tag.save()\n",
    "else:\n",
    "    print(\"Failed to load audio file.\")"
   ]
  }
 ],
 "metadata": {
  "kernelspec": {
   "display_name": ".venv",
   "language": "python",
   "name": "python3"
  },
  "language_info": {
   "codemirror_mode": {
    "name": "ipython",
    "version": 3
   },
   "file_extension": ".py",
   "mimetype": "text/x-python",
   "name": "python",
   "nbconvert_exporter": "python",
   "pygments_lexer": "ipython3",
   "version": "3.12.1"
  }
 },
 "nbformat": 4,
 "nbformat_minor": 2
}
